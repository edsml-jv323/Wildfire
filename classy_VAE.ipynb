{
 "cells": [
  {
   "cell_type": "code",
   "execution_count": 49,
   "metadata": {},
   "outputs": [],
   "source": [
    "import numpy as np\n",
    "import torch"
   ]
  },
  {
   "cell_type": "code",
   "execution_count": 42,
   "metadata": {},
   "outputs": [],
   "source": [
    "class Data_Prep:\n",
    "    \"\"\"This class loads the data into sets of 100, sampling a certain number in the sequences of 100 \"\"\"\n",
    "    def __init__(self, train_data, test_data):\n",
    "        self.train_data =train_data\n",
    "        self.test_data=test_data\n",
    "    \n",
    "    def Reshape(self, split_size, sequence_length):\n",
    "        w =self.train_data.shape[1]\n",
    "        h=self.train_data.shape[2]\n",
    "        assert self.train_data.shape[2]==self.test_data.shape[2]\n",
    "        assert self.train_data.shape[1]==self.test_data.shape[1]\n",
    "\n",
    "        self.train_4d=self.train_data.reshape(self.train_data.shape[0]//sequence_length,sequence_length,w,h)[:,::split_size,:,:][:,:-1,:,:]\n",
    "        self.train2_4d=self.train_data.reshape(self.train_data.shape[0]//sequence_length,sequence_length,w,h)[:,::split_size,:,:][:,:-1,:,:]\n",
    "        self.train_shift_4d=self.train_data.reshape(self.train_data.shape[0]//sequence_length,sequence_length,w,h)[:,::split_size,:,:][:,1:,:,:]\n",
    "\n",
    "        self.test_4d = self.test_data.reshape(self.test_data.shape[0]//sequence_length,sequence_length,w,h)[:,::split_size,:,:][:,:-1,:,:]\n",
    "        self.test_shift_4d= self.test_data.reshape(self.test_data.shape[0]//sequence_length,sequence_length,w,h)[:,::split_size,:,:][:,1:,:,:]\n",
    "        assert (self.train_shift_4d[0][1].all() ==self.train_4d[0][2].all())\n",
    "        assert (self.test_shift_4d[0][1].all() == self.test_4d[0][2].all())\n",
    "\n",
    "        return self.train_4d, self.test_4d\n"
   ]
  },
  {
   "cell_type": "code",
   "execution_count": 50,
   "metadata": {},
   "outputs": [],
   "source": [
    "class Data_Prep:\n",
    "    \"\"\"This class loads the data into sets of 100, sampling a certain number in the sequences of 100 \"\"\"\n",
    "    def __init__(self):\n",
    "        self.train_4d\n",
    "        self.train_4d\n",
    "\n",
    "    def Reshape(self, split_size, sequence_length, train_data, test_data):\n",
    "        w =train_data.shape[1]\n",
    "        h=train_data.shape[2]\n",
    "        assert train_data.shape[2]==test_data.shape[2]\n",
    "        assert train_data.shape[1]==test_data.shape[1]\n",
    "\n",
    "        self.train_4d=train_data.reshape(train_data.shape[0]//sequence_length,sequence_length,w,h)[:,::split_size,:,:][:,:-1,:,:]\n",
    "        self.train2_4d=train_data.reshape(train_data.shape[0]//sequence_length,sequence_length,w,h)[:,::split_size,:,:][:,:-1,:,:]\n",
    "        self.train_shift_4d=train_data.reshape(train_data.shape[0]//sequence_length,sequence_length,w,h)[:,::split_size,:,:][:,1:,:,:]\n",
    "\n",
    "        self.test_4d = self.test_data.reshape(self.test_data.shape[0]//sequence_length,sequence_length,w,h)[:,::split_size,:,:][:,:-1,:,:]\n",
    "        self.test_shift_4d= self.test_data.reshape(self.test_data.shape[0]//sequence_length,sequence_length,w,h)[:,::split_size,:,:][:,1:,:,:]\n",
    "        assert (self.train_shift_4d[0][1].all() ==self.train_4d[0][2].all())\n",
    "        assert (self.test_shift_4d[0][1].all() == self.test_4d[0][2].all())\n",
    "\n",
    "        return self.train_4d, self.test_4d\n",
    "    \n",
    "    def DataLoading(self):\n",
    "        trainloader = torch.utils.data.DataLoader(torch.tensor(self.train_4d,dtype=torch.float32),batch_size=16, shuffle = False)\n",
    "        trainshiftloader = torch.utils.data.DataLoader(torch.tensor(self.train_4d,dtype=torch.float32),batch_size=16, shuffle = False)\n",
    "        testloader = torch.utils.data.DataLoader(torch.tensor(self.test_4d,dtype=torch.float32),batch_size=16, shuffle = False)\n",
    "        testshiftloader = torch.utils.data.DataLoader(torch.tensor(self.test_4d,dtype=torch.float32),batch_size=16, shuffle = False)\n",
    "\n",
    "        return trainloader, trainshiftloader, testloader, testshiftloader\n"
   ]
  },
  {
   "cell_type": "code",
   "execution_count": 4,
   "metadata": {},
   "outputs": [],
   "source": [
    "data_path =  'data/Ferguson_fire_train.npy'\n",
    "train_data = np.load(data_path)\n",
    "test_path =  'data/Ferguson_fire_test.npy'\n",
    "test_data = np.load(test_path)"
   ]
  },
  {
   "cell_type": "code",
   "execution_count": 46,
   "metadata": {},
   "outputs": [],
   "source": [
    "(train, test) =Data_Prep().Reshape(split_size=5,sequence_length=100, train_data, test_data)"
   ]
  }
 ],
 "metadata": {
  "kernelspec": {
   "display_name": "bigdata",
   "language": "python",
   "name": "python3"
  },
  "language_info": {
   "codemirror_mode": {
    "name": "ipython",
    "version": 3
   },
   "file_extension": ".py",
   "mimetype": "text/x-python",
   "name": "python",
   "nbconvert_exporter": "python",
   "pygments_lexer": "ipython3",
   "version": "3.12.3"
  }
 },
 "nbformat": 4,
 "nbformat_minor": 2
}
